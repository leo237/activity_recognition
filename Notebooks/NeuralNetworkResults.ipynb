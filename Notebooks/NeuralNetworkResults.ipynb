{
 "metadata": {
  "name": "NeuralNetworkResults"
 },
 "nbformat": 3,
 "nbformat_minor": 0,
 "worksheets": [
  {
   "cells": [
    {
     "cell_type": "markdown",
     "metadata": {},
     "source": "Imports."
    },
    {
     "cell_type": "code",
     "collapsed": false,
     "input": "%matplotlib inline\nimport numpy as np \nimport pandas as pd \nimport csv as csv\nfrom sklearn.ensemble import RandomForestClassifier\nimport pickle\nimport matplotlib.pyplot as plt\nimport tensorflow as tf",
     "language": "python",
     "metadata": {},
     "outputs": [],
     "prompt_number": 1
    },
    {
     "cell_type": "markdown",
     "metadata": {},
     "source": "Define funciton to plot confusion matrix"
    },
    {
     "cell_type": "code",
     "collapsed": false,
     "input": "def plot_confusion_matrix(df_confusion, title='Confusion matrix', cmap=plt.cm.gray_r):\n    plt.matshow(df_confusion, cmap=cmap) # imshow\n    plt.title(title)\n    plt.colorbar()\n    tick_marks = np.arange(len(df_confusion.columns))\n    plt.xticks(tick_marks, df_confusion.columns, rotation=45)\n    plt.yticks(tick_marks, df_confusion.index)\n    # plt.tight_layout()\n    plt.show()",
     "language": "python",
     "metadata": {},
     "outputs": [],
     "prompt_number": 2
    },
    {
     "cell_type": "markdown",
     "metadata": {},
     "source": "Load the test data"
    },
    {
     "cell_type": "code",
     "collapsed": false,
     "input": "fileName = '/Users/Leo/Desktop/clean/finalData/testData.pickle'\npickledFile = open(fileName,'r')\n\ntestData = pickle.load(pickledFile) \ntestData = testData.astype(np.float32)\n\ntestInputData = testData[:,1:4]\ntestLabelData = testData[:,4].astype(int)",
     "language": "python",
     "metadata": {},
     "outputs": [],
     "prompt_number": 3
    },
    {
     "cell_type": "markdown",
     "metadata": {},
     "source": "Define utility function and neural network structure"
    },
    {
     "cell_type": "code",
     "collapsed": false,
     "input": "def oneHotEncoding(n):\n    res = []\n    for each in n:\n        s = [0 for i in xrange(7)]\n        s[int(each)-1] = 1\n        res.append(s)\n    return np.asarray(res)\n\ndef oneHotDecoding(n):\n    res = []\n    for each in n:\n        c  = np.argmax(each)+1\n        res.append(c)\n    return res\n\ndef init_weights(shape, namedAs, init_method='xavier', xavier_params = (None, None)):\n    if init_method == 'zeros':\n        return tf.Variable(tf.zeros(shape, dtype=tf.float32), name=namedAs)\n    elif init_method == 'uniform':\n        return tf.Variable(tf.random_normal(shape, stddev=0.01, dtype=tf.float32), name=namedAs)\n    else: #xavier\n        (fan_in, fan_out) = xavier_params\n        low = -4*np.sqrt(1.0/(fan_in + fan_out)) # {sigmoid:4, nn.relu:1} \n        high = 4*np.sqrt(1.0/(fan_in + fan_out))\n        return tf.Variable(tf.random_uniform(shape, minval=low, maxval=high, dtype=tf.float32), name=namedAs)\n\n################################################################################\n#Define input and output tensor placeholders\n\ninput_size = 3\noutput_size = 7 #Number of classes\n\n\nx = tf.placeholder(tf.float32, [None, input_size], 'x')\ny_ = tf.placeholder(tf.int32, [None, output_size], 'y_')\n\n################################################################################\n\n#Hidden Layer 1\nhidden1_units = 4\nweights1 = init_weights(\n        [input_size, hidden1_units], 'weights1',\n        'xavier',\n        xavier_params=(input_size, hidden1_units))\n\nbiases1 = init_weights([1,hidden1_units], 'biases1','zeros')\nhidden1 = tf.tanh(tf.matmul(x, weights1) + biases1)\n\n################################################################################\n#Hidden Layer 2\nhidden2_units = 5\nweights2 = init_weights(\n        [hidden1_units, hidden2_units], 'weights2',\n        'xavier',\n        xavier_params=(hidden1_units, hidden2_units))\n\nbiases2 = init_weights([1,hidden2_units], 'biases2','zeros')\n\nhidden2 = tf.tanh(tf.matmul(hidden1, weights2))\n\n################################################################################\n#Hidden Layer 3\nhidden3_units = 6\nweights3 = init_weights(\n        [hidden2_units, hidden3_units], 'weights3',\n        'xavier',\n        xavier_params=(hidden2_units, hidden3_units))\n\nbiases3 = init_weights([1,hidden3_units], 'biases3','zeros')\n\nhidden3 = tf.tanh(tf.matmul(hidden2, weights3) + biases3)\n\n################################################################################\n#Output Layer. Not nn.relu here. Linear operation. \nweights4 = init_weights(\n        [hidden3_units, output_size], 'weights4',\n        'xavier',\n        xavier_params=(hidden3_units, output_size))\nbiases4 = init_weights([1,output_size], 'biases4','zeros')\n\nlogits = tf.matmul(hidden3, weights4) + biases4",
     "language": "python",
     "metadata": {},
     "outputs": [],
     "prompt_number": 4
    },
    {
     "cell_type": "markdown",
     "metadata": {},
     "source": "Run session to get logits."
    },
    {
     "cell_type": "code",
     "collapsed": false,
     "input": "saver = tf.train.Saver()\nsess = tf.Session()\nsaver.restore(sess,\"/Users/Leo/Desktop/clean/models/cross1/attempt_2/model_30000_1.17519.ckpt\")\n\nnext_x, next_y_ = testInputData, oneHotEncoding(testLabelData)\nlogitss = sess.run(logits, feed_dict={x: next_x, y_: next_y_})\npredicted_y = np.asarray(oneHotDecoding(logitss))",
     "language": "python",
     "metadata": {},
     "outputs": [],
     "prompt_number": 5
    },
    {
     "cell_type": "markdown",
     "metadata": {},
     "source": "calculate accuracy."
    },
    {
     "cell_type": "code",
     "collapsed": false,
     "input": "correct = 0\ntotal = len(predicted_y)\n\nfor i in xrange(total):\n    if predicted_y[i] == testLabelData[i]:\n        correct+=1\n\nprint \"Correct : \" +  str(correct)\nprint \"Total : \" + str(total)\n\naccuracy = float(correct)/float(total)\n\nprint \"Accuracy : \" + str(accuracy)",
     "language": "python",
     "metadata": {},
     "outputs": [
      {
       "output_type": "stream",
       "stream": "stdout",
       "text": "Correct : 242970\nTotal : 384637\nAccuracy : 0.631686499219\n"
      }
     ],
     "prompt_number": 6
    },
    {
     "cell_type": "markdown",
     "metadata": {},
     "source": "Calculate confusion matrix and plot it"
    },
    {
     "cell_type": "code",
     "collapsed": false,
     "input": "df_confusion = pd.crosstab(testLabelData, predicted_y)\ndf_confusion2 = pd.crosstab(testLabelData, predicted_y, rownames=['Actual'], colnames=['Predicted'], margins=True)\n\nprint df_confusion2\n\ndf_conf_norm = df_confusion / df_confusion.sum(axis=1)\n\nplot_confusion_matrix(df_confusion)",
     "language": "python",
     "metadata": {},
     "outputs": [
      {
       "output_type": "stream",
       "stream": "stdout",
       "text": "Predicted       1      3      4       7     All\nActual                                         \n1          108871    724   2618    9186  121399\n2            5370    112   1460    2764    9706\n3            6690   4270   9475   23384   43819\n4           15626   1385  36757   17841   71609\n5            2001    621   3807    3961   10390\n6             982    905   1371    6392    9650\n7           11389   3857   9746   93072  118064\nAll        150929  11874  65234  156600  384637\n\n[8 rows x 5 columns]\n"
      },
      {
       "output_type": "stream",
       "stream": "stderr",
       "text": "/System/Library/Frameworks/Python.framework/Versions/2.7/Extras/lib/python/matplotlib/collections.py:548: FutureWarning: elementwise comparison failed; returning scalar instead, but in the future will perform elementwise comparison\n  if self._edgecolors == 'face':\n"
      },
      {
       "metadata": {},
       "output_type": "display_data",
       "png": "[encoded data removed]",
       "text": "<matplotlib.figure.Figure at 0x10bdbdc10>"
      }
     ],
     "prompt_number": 7
    }
   ],
   "metadata": {}
  }
 ]
}