{
 "metadata": {
  "name": "Train with an existing model."
 },
 "nbformat": 3,
 "nbformat_minor": 0,
 "worksheets": [
  {
   "cells": [
    {
     "cell_type": "markdown",
     "metadata": {},
     "source": "Everything is the same as the training for a new model, till the step where we initialize variables. "
    },
    {
     "cell_type": "code",
     "collapsed": false,
     "input": "import tensorflow as tf\nimport numpy as np\nimport pickle\nimport math\nimport random\n\n\n################################################################################\n#Load Data from picked files\ntrain = [2,3,4]\nvalidate = 1\n\ndata = []\nfor i in train:\n\tfileName = '/Users/Leo/Desktop/clean/finalData/crossValidationPart'+str(i) +'.pickle'\n\tprint \"filename \", fileName\n\tpickledFile = open(fileName,'r')\n\ttempData = pickle.load(pickledFile)\n\ttempData = tempData.astype(np.float32)\n\tprint tempData.shape\n\ttempData = tempData.tolist()\n\tdata = data+tempData\n\tpickledFile.close()\n\ndata = np.asarray(data)\nprint data.shape\n\nvalidationSetFileName = fileName = '/Users/Leo/Desktop/clean/finalData/crossValidationPart'+str(validate) +'.pickle'\npickledFile = open(fileName,'r')\nvalidationData = pickle.load(pickledFile)\nvalidationData = validationData.astype(np.float32)\n\n################################################################################\n# Utility Functions\n\ndef oneHotEncoding(n):\n\tres = []\n\tfor each in n:\n\t\ts = [0 for i in xrange(7)]\n\t\ts[int(each)-1] = 1\n\t\tres.append(s)\n\treturn np.asarray(res)\n\ndef nextBatch(data,datasize):\n\tresult = set()\n\ttotalDataSize = data[0].shape[0]\n\tfor x in range (0, datasize):\n\t    num = random.randint(0, totalDataSize-1)\n\t    while num in result:\n\t        num = random.randint(0, totalDataSize-1)\n\t    result.add(num)\n\tx = []\n\ty_ = []\n\tfor each in result:\n\t\tx.append(data[0][each,:])\n\t\ty_.append(data[1][each,:])\n\treturn np.asarray(x), np.asarray(y_)\n\ndef init_weights(shape, namedAs, init_method='xavier', xavier_params = (None, None)):\n    if init_method == 'zeros':\n        return tf.Variable(tf.zeros(shape, dtype=tf.float32), name=namedAs)\n    elif init_method == 'uniform':\n        return tf.Variable(tf.random_normal(shape, stddev=0.01, dtype=tf.float32), name=namedAs)\n    else: #xavier\n        (fan_in, fan_out) = xavier_params\n        low = -4*np.sqrt(1.0/(fan_in + fan_out)) # {sigmoid:4, nn.relu:1} \n        high = 4*np.sqrt(1.0/(fan_in + fan_out))\n        return tf.Variable(tf.random_uniform(shape, minval=low, maxval=high, dtype=tf.float32), name=namedAs)\n\n################################################################################\n# Define Input and Label data variables\n\ninput_data = data[:,1:4]\nlabel_data = oneHotEncoding(data[:,4]) \ntrain_size = input_data.shape[0]\nacc_data = []\nacc_data.append(input_data)\nacc_data.append(label_data)\n\nvalidation_test_data = validationData[:,1:4]\nvalidation_label_data = oneHotEncoding(validationData[:,4])\n\n################################################################################\n#Define input and output tensor placeholders\n\ninput_size = 3\noutput_size = 7 #Number of classes\n\n\nx = tf.placeholder(tf.float32, [None, input_size], 'x')\ny_ = tf.placeholder(tf.int32, [None, output_size], 'y_')\n\n################################################################################\n\n#Hidden Layer 1\nhidden1_units = 4\nweights1 = init_weights(\n        [input_size, hidden1_units], 'weights1',\n        'xavier',\n        xavier_params=(input_size, hidden1_units))\n\nbiases1 = init_weights([1,hidden1_units], 'biases1','zeros')\nhidden1 = tf.tanh(tf.matmul(x, weights1) + biases1)\n\n################################################################################\n#Hidden Layer 2\nhidden2_units = 5\nweights2 = init_weights(\n        [hidden1_units, hidden2_units], 'weights2',\n        'xavier',\n        xavier_params=(hidden1_units, hidden2_units))\n\nbiases2 = init_weights([1,hidden2_units], 'biases2','zeros')\n\nhidden2 = tf.tanh(tf.matmul(hidden1, weights2))\n\n################################################################################\n#Hidden Layer 3\nhidden3_units = 6\nweights3 = init_weights(\n        [hidden2_units, hidden3_units], 'weights3',\n        'xavier',\n        xavier_params=(hidden2_units, hidden3_units))\n\nbiases3 = init_weights([1,hidden3_units], 'biases3','zeros')\n\nhidden3 = tf.tanh(tf.matmul(hidden2, weights3) + biases3)\n\n################################################################################\n#Output Layer. Not nn.relu here. Linear operation. \nweights4 = init_weights(\n        [hidden3_units, output_size], 'weights4',\n        'xavier',\n        xavier_params=(hidden3_units, output_size))\nbiases4 = init_weights([1,output_size], 'biases4','zeros')\n\nlogits = tf.matmul(hidden3, weights4) + biases4\n\n################################################################################\n# Define Loss here\ndef loss(logits, labels,regularizers):\n\tlabels = tf.to_float(labels)\n\tcross_entropy = tf.nn.softmax_cross_entropy_with_logits(logits,labels,name='xentropy')\n\tloss = tf.reduce_mean(cross_entropy,name='xentropy_mean')\n\tloss += 5e-4 * regularizers\n\treturn loss",
     "language": "python",
     "metadata": {},
     "outputs": [
      {
       "output_type": "stream",
       "stream": "stdout",
       "text": "filename  /Users/Leo/Desktop/clean/finalData/crossValidationPart2.pickle\n(385379, 5)"
      },
      {
       "output_type": "stream",
       "stream": "stdout",
       "text": "\nfilename "
      },
      {
       "output_type": "stream",
       "stream": "stdout",
       "text": " /Users/Leo/Desktop/clean/finalData/crossValidationPart3.pickle\n(385379, 5)"
      },
      {
       "output_type": "stream",
       "stream": "stdout",
       "text": "\nfilename "
      },
      {
       "output_type": "stream",
       "stream": "stdout",
       "text": " /Users/Leo/Desktop/clean/finalData/crossValidationPart4.pickle\n(385379, 5)"
      },
      {
       "output_type": "stream",
       "stream": "stdout",
       "text": "\n(1156137, 5)"
      },
      {
       "output_type": "stream",
       "stream": "stdout",
       "text": "\n"
      }
     ],
     "prompt_number": 1
    },
    {
     "cell_type": "markdown",
     "metadata": {},
     "source": "Change the learning_rate to tweak and get better results."
    },
    {
     "cell_type": "code",
     "collapsed": false,
     "input": "\n################################################################################\n# Define for training\nglobal_step = tf.Variable(0, trainable=False)\nlearning_rate = 1e-4\n\noptimizer = tf.train.RMSPropOptimizer(learning_rate,decay=0.99, momentum=0.9, epsilon=1e-10)\n\nregularizers = (tf.nn.l2_loss(weights1) + tf.nn.l2_loss(weights2) +\n                  tf.nn.l2_loss(weights3) + tf.nn.l2_loss(weights4))\n\ncomputedLoss = loss(logits,y_,regularizers)\n\ntrain = optimizer.minimize(computedLoss,global_step=global_step)",
     "language": "python",
     "metadata": {},
     "outputs": [],
     "prompt_number": 2
    },
    {
     "cell_type": "markdown",
     "metadata": {},
     "source": "Then we define the saver variable. And begin our session."
    },
    {
     "cell_type": "code",
     "collapsed": false,
     "input": "saver = tf.train.Saver()\n# Launch the graph.\nsess = tf.Session()",
     "language": "python",
     "metadata": {},
     "outputs": [],
     "prompt_number": 3
    },
    {
     "cell_type": "markdown",
     "metadata": {},
     "source": "Now instead of initializing with one of the initialization strategies, we initialize from one of the pre saved models."
    },
    {
     "cell_type": "code",
     "collapsed": false,
     "input": "saver.restore(sess,\"/Users/Leo/Desktop/clean/models/cross1/attempt_1/model_20000_1.15978.ckpt\")",
     "language": "python",
     "metadata": {},
     "outputs": [],
     "prompt_number": 4
    },
    {
     "cell_type": "markdown",
     "metadata": {},
     "source": "We continue training as before."
    },
    {
     "cell_type": "code",
     "collapsed": false,
     "input": "for step in xrange(30001):\n\tnext_x, next_y_ = nextBatch(acc_data,4000)\n\t_, losss = sess.run([train, computedLoss], feed_dict={x: next_x, y_: next_y_})\n\tif step%500 == 0:\n\t\tprint step ,\n\t\tprint \"  Loss: \",losss\n\tif step%2000 == 0:\n\t\tsave_path = saver.save(sess, \"/Users/Leo/Desktop/clean/models/cross1/attempt_2/model_\"+str(step)+\"_\"+str(losss)+\".ckpt\")\n \t\tprint(\"Model saved in file: %s\" % save_path)\n \t\tcorrect_prediction = tf.equal(tf.argmax(logits,1)+1, tf.argmax(y_,1)+1)\n\t\taccuracy = tf.reduce_mean(tf.cast(correct_prediction, tf.float32))\n\t\tprint \"ACCURACY : \", \n\t\tprint(sess.run(accuracy, feed_dict={x: validation_test_data, y_: validation_label_data}))",
     "language": "python",
     "metadata": {},
     "outputs": [
      {
       "output_type": "stream",
       "stream": "stdout",
       "text": "0   Loss:  1.13322\nModel saved in file: /Users/Leo/Desktop/clean/models/cross1/attempt_2/model_0_1.13322.ckpt\nACCURACY :  "
      },
      {
       "output_type": "stream",
       "stream": "stdout",
       "text": "0.626669\n500"
      },
      {
       "output_type": "stream",
       "stream": "stdout",
       "text": "   Loss:  1.12984\n1000"
      },
      {
       "output_type": "stream",
       "stream": "stdout",
       "text": "   Loss:  1.16282\n1500"
      },
      {
       "output_type": "stream",
       "stream": "stdout",
       "text": "   Loss:  1.14459\n2000"
      },
      {
       "output_type": "stream",
       "stream": "stdout",
       "text": "   Loss:  1.14351\nModel saved in file: /Users/Leo/Desktop/clean/models/cross1/attempt_2/model_2000_1.14351.ckpt\nACCURACY :  "
      },
      {
       "output_type": "stream",
       "stream": "stdout",
       "text": "0.646444\n2500"
      },
      {
       "output_type": "stream",
       "stream": "stdout",
       "text": "   Loss:  1.16596\n3000"
      },
      {
       "output_type": "stream",
       "stream": "stdout",
       "text": "   Loss:  1.14454\n3500"
      },
      {
       "output_type": "stream",
       "stream": "stdout",
       "text": "   Loss:  1.13654\n4000"
      },
      {
       "output_type": "stream",
       "stream": "stdout",
       "text": "   Loss:  1.15049\nModel saved in file: /Users/Leo/Desktop/clean/models/cross1/attempt_2/model_4000_1.15049.ckpt\nACCURACY :  "
      },
      {
       "output_type": "stream",
       "stream": "stdout",
       "text": "0.646462\n4500"
      },
      {
       "output_type": "stream",
       "stream": "stdout",
       "text": "   Loss:  1.13441\n5000"
      },
      {
       "output_type": "stream",
       "stream": "stdout",
       "text": "   Loss:  1.12286\n5500"
      },
      {
       "output_type": "stream",
       "stream": "stdout",
       "text": "   Loss:  1.14701\n6000"
      },
      {
       "output_type": "stream",
       "stream": "stdout",
       "text": "   Loss:  1.14571\nModel saved in file: /Users/Leo/Desktop/clean/models/cross1/attempt_2/model_6000_1.14571.ckpt\nACCURACY :  "
      },
      {
       "output_type": "stream",
       "stream": "stdout",
       "text": "0.646696\n6500"
      },
      {
       "output_type": "stream",
       "stream": "stdout",
       "text": "   Loss:  1.12835\n7000"
      },
      {
       "output_type": "stream",
       "stream": "stdout",
       "text": "   Loss:  1.134\n7500"
      },
      {
       "output_type": "stream",
       "stream": "stdout",
       "text": "   Loss:  1.12145\n8000"
      },
      {
       "output_type": "stream",
       "stream": "stdout",
       "text": "   Loss:  1.13135\nModel saved in file: /Users/Leo/Desktop/clean/models/cross1/attempt_2/model_8000_1.13135.ckpt\nACCURACY :  "
      },
      {
       "output_type": "stream",
       "stream": "stdout",
       "text": "0.64689\n8500"
      },
      {
       "output_type": "stream",
       "stream": "stdout",
       "text": "   Loss:  1.14026\n9000"
      },
      {
       "output_type": "stream",
       "stream": "stdout",
       "text": "   Loss:  1.18711\n9500"
      },
      {
       "output_type": "stream",
       "stream": "stdout",
       "text": "   Loss:  1.16179\n10000"
      },
      {
       "output_type": "stream",
       "stream": "stdout",
       "text": "   Loss:  1.11342\nModel saved in file: /Users/Leo/Desktop/clean/models/cross1/attempt_2/model_10000_1.11342.ckpt\nACCURACY :  "
      },
      {
       "output_type": "stream",
       "stream": "stdout",
       "text": "0.646374\n10500"
      },
      {
       "output_type": "stream",
       "stream": "stdout",
       "text": "   Loss:  1.16016\n11000"
      },
      {
       "output_type": "stream",
       "stream": "stdout",
       "text": "   Loss:  1.15747\n11500"
      },
      {
       "output_type": "stream",
       "stream": "stdout",
       "text": "   Loss:  1.13999\n12000"
      },
      {
       "output_type": "stream",
       "stream": "stdout",
       "text": "   Loss:  1.14973\nModel saved in file: /Users/Leo/Desktop/clean/models/cross1/attempt_2/model_12000_1.14973.ckpt\nACCURACY :  "
      },
      {
       "output_type": "stream",
       "stream": "stdout",
       "text": "0.646875\n12500"
      },
      {
       "output_type": "stream",
       "stream": "stdout",
       "text": "   Loss:  1.13919\n13000"
      },
      {
       "output_type": "stream",
       "stream": "stdout",
       "text": "   Loss:  1.1512\n13500"
      },
      {
       "output_type": "stream",
       "stream": "stdout",
       "text": "   Loss:  1.13621\n14000"
      },
      {
       "output_type": "stream",
       "stream": "stdout",
       "text": "   Loss:  1.15667\nModel saved in file: /Users/Leo/Desktop/clean/models/cross1/attempt_2/model_14000_1.15667.ckpt\nACCURACY :  "
      },
      {
       "output_type": "stream",
       "stream": "stdout",
       "text": "0.646885\n14500"
      },
      {
       "output_type": "stream",
       "stream": "stdout",
       "text": "   Loss:  1.13939\n15000"
      },
      {
       "output_type": "stream",
       "stream": "stdout",
       "text": "   Loss:  1.14413\n15500"
      },
      {
       "output_type": "stream",
       "stream": "stdout",
       "text": "   Loss:  1.13638\n16000"
      },
      {
       "output_type": "stream",
       "stream": "stdout",
       "text": "   Loss:  1.15692\nModel saved in file: /Users/Leo/Desktop/clean/models/cross1/attempt_2/model_16000_1.15692.ckpt\nACCURACY :  "
      },
      {
       "output_type": "stream",
       "stream": "stdout",
       "text": "0.646597\n16500"
      },
      {
       "output_type": "stream",
       "stream": "stdout",
       "text": "   Loss:  1.13443\n17000"
      },
      {
       "output_type": "stream",
       "stream": "stdout",
       "text": "   Loss:  1.12386\n17500"
      },
      {
       "output_type": "stream",
       "stream": "stdout",
       "text": "   Loss:  1.13717\n18000"
      },
      {
       "output_type": "stream",
       "stream": "stdout",
       "text": "   Loss:  1.14147\nModel saved in file: /Users/Leo/Desktop/clean/models/cross1/attempt_2/model_18000_1.14147.ckpt\nACCURACY :  "
      },
      {
       "output_type": "stream",
       "stream": "stdout",
       "text": "0.646527\n18500"
      },
      {
       "output_type": "stream",
       "stream": "stdout",
       "text": "   Loss:  1.1373\n19000"
      },
      {
       "output_type": "stream",
       "stream": "stdout",
       "text": "   Loss:  1.1364\n19500"
      },
      {
       "output_type": "stream",
       "stream": "stdout",
       "text": "   Loss:  1.11605\n20000"
      },
      {
       "output_type": "stream",
       "stream": "stdout",
       "text": "   Loss:  1.14242\nModel saved in file: /Users/Leo/Desktop/clean/models/cross1/attempt_2/model_20000_1.14242.ckpt\nACCURACY :  "
      },
      {
       "output_type": "stream",
       "stream": "stdout",
       "text": "0.64626\n20500"
      },
      {
       "output_type": "stream",
       "stream": "stdout",
       "text": "   Loss:  1.12072\n21000"
      },
      {
       "output_type": "stream",
       "stream": "stdout",
       "text": "   Loss:  1.13535\n21500"
      },
      {
       "output_type": "stream",
       "stream": "stdout",
       "text": "   Loss:  1.1234\n22000"
      },
      {
       "output_type": "stream",
       "stream": "stdout",
       "text": "   Loss:  1.16138\nModel saved in file: /Users/Leo/Desktop/clean/models/cross1/attempt_2/model_22000_1.16138.ckpt\nACCURACY :  "
      },
      {
       "output_type": "stream",
       "stream": "stdout",
       "text": "0.646587\n22500"
      },
      {
       "output_type": "stream",
       "stream": "stdout",
       "text": "   Loss:  1.1318\n23000"
      },
      {
       "output_type": "stream",
       "stream": "stdout",
       "text": "   Loss:  1.1482\n23500"
      },
      {
       "output_type": "stream",
       "stream": "stdout",
       "text": "   Loss:  1.12988\n24000"
      },
      {
       "output_type": "stream",
       "stream": "stdout",
       "text": "   Loss:  1.15299\nModel saved in file: /Users/Leo/Desktop/clean/models/cross1/attempt_2/model_24000_1.15299.ckpt\nACCURACY :  "
      },
      {
       "output_type": "stream",
       "stream": "stdout",
       "text": "0.649454\n24500"
      },
      {
       "output_type": "stream",
       "stream": "stdout",
       "text": "   Loss:  1.12957\n25000"
      },
      {
       "output_type": "stream",
       "stream": "stdout",
       "text": "   Loss:  1.13731\n25500"
      },
      {
       "output_type": "stream",
       "stream": "stdout",
       "text": "   Loss:  1.11051\n26000"
      },
      {
       "output_type": "stream",
       "stream": "stdout",
       "text": "   Loss:  1.12006\nModel saved in file: /Users/Leo/Desktop/clean/models/cross1/attempt_2/model_26000_1.12006.ckpt\nACCURACY :  "
      },
      {
       "output_type": "stream",
       "stream": "stdout",
       "text": "0.649096\n26500"
      },
      {
       "output_type": "stream",
       "stream": "stdout",
       "text": "   Loss:  1.14174\n27000"
      },
      {
       "output_type": "stream",
       "stream": "stdout",
       "text": "   Loss:  1.12449\n27500"
      },
      {
       "output_type": "stream",
       "stream": "stdout",
       "text": "   Loss:  1.14759\n28000"
      },
      {
       "output_type": "stream",
       "stream": "stdout",
       "text": "   Loss:  1.11846\nModel saved in file: /Users/Leo/Desktop/clean/models/cross1/attempt_2/model_28000_1.11846.ckpt\nACCURACY :  "
      },
      {
       "output_type": "stream",
       "stream": "stdout",
       "text": "0.649291\n28500"
      },
      {
       "output_type": "stream",
       "stream": "stdout",
       "text": "   Loss:  1.1436\n29000"
      },
      {
       "output_type": "stream",
       "stream": "stdout",
       "text": "   Loss:  1.16151\n29500"
      },
      {
       "output_type": "stream",
       "stream": "stdout",
       "text": "   Loss:  1.14532\n30000"
      },
      {
       "output_type": "stream",
       "stream": "stdout",
       "text": "   Loss:  1.1008\nModel saved in file: /Users/Leo/Desktop/clean/models/cross1/attempt_2/model_30000_1.1008.ckpt\nACCURACY :  "
      },
      {
       "output_type": "stream",
       "stream": "stdout",
       "text": "0.649252\n"
      }
     ],
     "prompt_number": 5
    }
   ],
   "metadata": {}
  }
 ]
}