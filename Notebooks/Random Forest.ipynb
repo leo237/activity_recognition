{
 "metadata": {
  "name": "Random Forest"
 },
 "nbformat": 3,
 "nbformat_minor": 0,
 "worksheets": [
  {
   "cells": [
    {
     "cell_type": "raw",
     "metadata": {},
     "source": "Import all necessary files."
    },
    {
     "cell_type": "code",
     "collapsed": false,
     "input": "import numpy as np \nimport pandas as pd \nimport csv as csv\nfrom sklearn.ensemble import RandomForestClassifier\nimport pickle",
     "language": "python",
     "metadata": {},
     "outputs": [],
     "prompt_number": 2
    },
    {
     "cell_type": "raw",
     "metadata": {},
     "source": "Choose your training and validation set"
    },
    {
     "cell_type": "code",
     "collapsed": false,
     "input": "train = [2,3,4]\nvalidate = 1",
     "language": "python",
     "metadata": {},
     "outputs": [],
     "prompt_number": 3
    },
    {
     "cell_type": "raw",
     "metadata": {},
     "source": "Import the data."
    },
    {
     "cell_type": "code",
     "collapsed": false,
     "input": "data = []\nfor i in train:\n\tfileName = '/Users/Leo/Desktop/clean/finalData/crossValidationPart'+str(i) +'.pickle'\n\tprint \"filename \", fileName\n\tpickledFile = open(fileName,'r')\n\ttempData = pickle.load(pickledFile)\n\ttempData = tempData.astype(np.float32)\n\tprint tempData.shape\n\ttempData = tempData.tolist()\n\tdata = data+tempData\n\tpickledFile.close()\n\ndata = np.asarray(data)\nprint data.shape\n\nvalidationSetFileName = fileName = '/Users/Leo/Desktop/clean/finalData/crossValidationPart'+str(validate) +'.pickle'\npickledFile = open(fileName,'r')\nvalidationData = pickle.load(pickledFile)\nvalidationData = validationData.astype(np.float32)\n\ninput_data = data[:,1:4]\nlabel_data = data[:,4].astype(int)\n\nvalidate_input_data = validationData[:,1:4]\nvalidate_label_data = validationData[:,4].astype(int)",
     "language": "python",
     "metadata": {},
     "outputs": [
      {
       "output_type": "stream",
       "stream": "stdout",
       "text": "filename  /Users/Leo/Desktop/clean/finalData/crossValidationPart2.pickle\n(385379, 5)"
      },
      {
       "output_type": "stream",
       "stream": "stdout",
       "text": "\nfilename "
      },
      {
       "output_type": "stream",
       "stream": "stdout",
       "text": " /Users/Leo/Desktop/clean/finalData/crossValidationPart3.pickle\n(385379, 5)"
      },
      {
       "output_type": "stream",
       "stream": "stdout",
       "text": "\nfilename "
      },
      {
       "output_type": "stream",
       "stream": "stdout",
       "text": " /Users/Leo/Desktop/clean/finalData/crossValidationPart4.pickle\n(385379, 5)"
      },
      {
       "output_type": "stream",
       "stream": "stdout",
       "text": "\n(1156137, 5)"
      },
      {
       "output_type": "stream",
       "stream": "stdout",
       "text": "\n"
      }
     ],
     "prompt_number": 4
    },
    {
     "cell_type": "raw",
     "metadata": {},
     "source": "Train the random forest classifier using 10 estimators."
    },
    {
     "cell_type": "code",
     "collapsed": false,
     "input": "rf = RandomForestClassifier(n_estimators=10,criterion=\"gini\",n_jobs=2,verbose=4,max_features=\"auto\")\nrf.fit(input_data, label_data)",
     "language": "python",
     "metadata": {},
     "outputs": [
      {
       "output_type": "stream",
       "stream": "stderr",
       "text": "[Parallel(n_jobs=2)]: Done   1 out of   2 | elapsed:   26.9s remaining:   26.9s\n[Parallel(n_jobs=2)]: Done   2 out of   2 | elapsed:   27.4s finished\n"
      },
      {
       "output_type": "stream",
       "stream": "stdout",
       "text": "building tree 1 of 5\nbuilding tree 1 of 5\nbuilding tree 2 of 5\nbuilding tree 2 of 5\nbuilding tree 3 of 5\nbuilding tree 3 of 5\nbuilding tree 4 of 5\nbuilding tree 4 of 5\nbuilding tree 5 of 5\nbuilding tree 5 of 5\n"
      },
      {
       "metadata": {},
       "output_type": "pyout",
       "prompt_number": 5,
       "text": "RandomForestClassifier(bootstrap=True, compute_importances=None,\n            criterion='gini', max_depth=None, max_features='auto',\n            max_leaf_nodes=None, min_density=None, min_samples_leaf=1,\n            min_samples_split=2, n_estimators=10, n_jobs=2,\n            oob_score=False, random_state=None, verbose=4)"
      }
     ],
     "prompt_number": "*"
    },
    {
     "cell_type": "raw",
     "metadata": {},
     "source": "Save the classifier that you have trained for future use."
    },
    {
     "cell_type": "code",
     "collapsed": false,
     "input": "#Pickle rf\nsaveRF = open('/Users/Leo/Desktop/clean/rf_model_n_estimators_10.pickle','w')\npickle.dump(rf, saveRF)\nsaveRF.close()",
     "language": "python",
     "metadata": {},
     "outputs": [],
     "prompt_number": "*"
    },
    {
     "cell_type": "raw",
     "metadata": {},
     "source": "Predict output using the classifier generated."
    },
    {
     "cell_type": "code",
     "collapsed": false,
     "input": "output = rf.predict(validate_input_data)\nprint output\nprint validate_label_data",
     "language": "python",
     "metadata": {},
     "outputs": [],
     "prompt_number": "*"
    },
    {
     "cell_type": "raw",
     "metadata": {},
     "source": "Calculate accuracy that you achieve using the random forest classification"
    },
    {
     "cell_type": "code",
     "collapsed": false,
     "input": "correct = 0\ntotal = len(output)\n\nfor i in xrange(total):\n\tif output[i] == validate_label_data[i]:\n\t\tcorrect+=1\n\nprint \"Correct : \" +  str(correct)\nprint \"Total : \" + str(total)\n\naccuracy = float(correct)/float(total)\n\nprint \"Accuracy : \" + str(accuracy)",
     "language": "python",
     "metadata": {},
     "outputs": [],
     "prompt_number": "*"
    }
   ],
   "metadata": {}
  }
 ]
}