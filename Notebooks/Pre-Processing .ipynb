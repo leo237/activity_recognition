{
 "metadata": {
  "name": "Pre-Processing "
 },
 "nbformat": 3,
 "nbformat_minor": 0,
 "worksheets": [
  {
   "cells": [
    {
     "cell_type": "raw",
     "metadata": {},
     "source": "First, we aggregate all the csv files"
    },
    {
     "cell_type": "code",
     "collapsed": false,
     "input": "import numpy as np\nfrom numpy import genfromtxt\nimport pickle\n\nmy_data = genfromtxt('/Users/Leo/Desktop/clean/data/1.csv', delimiter=',')\n\nfor i in xrange(2, 16):\n\tloc = '/Users/Leo/Desktop/clean/data/' + str(i) + '.csv'\n\tnew_data = genfromtxt(loc, delimiter=',')\n\tmy_data = np.concatenate((my_data,new_data), axis = 0)",
     "language": "python",
     "metadata": {},
     "outputs": [],
     "prompt_number": 5
    },
    {
     "cell_type": "raw",
     "metadata": {},
     "source": "We shuffle the data. "
    },
    {
     "cell_type": "code",
     "collapsed": false,
     "input": "np.random.shuffle(my_data)",
     "language": "python",
     "metadata": {},
     "outputs": [],
     "prompt_number": 6
    },
    {
     "cell_type": "raw",
     "metadata": {},
     "source": "Then we zero-center the data and normalize the data."
    },
    {
     "cell_type": "code",
     "collapsed": false,
     "input": "\nmy_data[:,1:4] -= np.mean(my_data[:,1:4], axis=0)\nmy_data[:,1:4] /= np.std(my_data[:,1:4], axis=0)",
     "language": "python",
     "metadata": {},
     "outputs": [],
     "prompt_number": 7
    },
    {
     "cell_type": "raw",
     "metadata": {},
     "source": "We then pickle the data for using it later. "
    },
    {
     "cell_type": "code",
     "collapsed": false,
     "input": "pickledFile = open('/Users/Leo/Desktop/clean/data/concatenatedData.pickle','w')\n\npickle.dump(my_data, pickledFile)\npickledFile.close()\nprint my_data.shape",
     "language": "python",
     "metadata": {},
     "outputs": [
      {
       "output_type": "stream",
       "stream": "stdout",
       "text": "(1926896, 5)\n"
      }
     ],
     "prompt_number": 8
    }
   ],
   "metadata": {}
  }
 ]
}