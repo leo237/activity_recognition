{
 "metadata": {
  "name": "Pre Process 2"
 },
 "nbformat": 3,
 "nbformat_minor": 0,
 "worksheets": [
  {
   "cells": [
    {
     "cell_type": "raw",
     "metadata": {},
     "source": "In this file, we try to divide our huge dataset into 5 parts. \n\n4 parts will be used for performing 4 cross-validation. And a 5th set is created to finally test the model that I'm satisfied with. \n\nI am also creating a small set, to test what hyperparameters to choose. I will try to overfit this small dataset to understand what kind of hyperparameter is working on my dataset. "
    },
    {
     "cell_type": "code",
     "collapsed": false,
     "input": "import pickle\nimport numpy as np\nimport matplotlib.pyplot as plt\nfrom mpl_toolkits.mplot3d import Axes3D\n\nfileName = '/Users/Leo/Desktop/clean/data/concatenatedData.pickle'\npickleFile = open(fileName,'r')\ndata = pickle.load(pickleFile)\n\nprint data[0]\nnp.random.shuffle(data)\nprint data[0]\n\nnumberOfParts = 5\nallParts = []\n\nsizeOfEachPart = int(data.shape[0]/5)\nprevious = 0\n\nfor i in xrange(1,numberOfParts):\n\tindividualPart = data[previous:i*sizeOfEachPart,]\n\tprint individualPart.shape\n\tallParts.append(individualPart)\n\tprevious = i*sizeOfEachPart\n\tprint previous\nallParts.append(data[previous:,])\n\nfor i in xrange(1,numberOfParts):\n\tfileName = '/Users/Leo/Desktop/clean/finalData/crossValidationPart'+str(i)+'.pickle'\n\tpickledFile = open(fileName,'w')\n\tpickle.dump(allParts[i-1],pickledFile)\n\tpickledFile.close()\n\nfileName = '/Users/Leo/Desktop/clean/finalData/testData.pickle'\npickledFile = open(fileName,'w')\npickle.dump(allParts[-1], pickledFile)\npickledFile.close()\n\n\nfileName = '/Users/Leo/Desktop/clean/finalData/smallDataForTestingHyperparameters.pickle'\npickledFile=open(fileName,'w')\npickle.dump(allParts[0][:100,], pickledFile)\npickledFile.close()\n\n",
     "language": "python",
     "metadata": {},
     "outputs": []
    }
   ],
   "metadata": {}
  }
 ]
}