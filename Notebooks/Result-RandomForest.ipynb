{
 "metadata": {
  "name": "Result-RandomForest"
 },
 "nbformat": 3,
 "nbformat_minor": 0,
 "worksheets": [
  {
   "cells": [
    {
     "cell_type": "markdown",
     "metadata": {},
     "source": "Import files."
    },
    {
     "cell_type": "code",
     "collapsed": false,
     "input": "%matplotlib inline\nimport numpy as np \nimport pandas as pd \nimport csv as csv\nfrom sklearn.ensemble import RandomForestClassifier\nimport pickle\nimport matplotlib.pyplot as plt",
     "language": "python",
     "metadata": {},
     "outputs": [],
     "prompt_number": 1
    },
    {
     "cell_type": "markdown",
     "metadata": {},
     "source": "Define function to plot the confusion matrix"
    },
    {
     "cell_type": "code",
     "collapsed": false,
     "input": "def plot_confusion_matrix(df_confusion, title='Confusion matrix', cmap=plt.cm.gray_r):\n    plt.matshow(df_confusion, cmap=cmap) # imshow\n    plt.title(title)\n    plt.colorbar()\n    tick_marks = np.arange(len(df_confusion.columns))\n    plt.xticks(tick_marks, df_confusion.columns, rotation=45)\n    plt.yticks(tick_marks, df_confusion.index)\n    # plt.tight_layout()\n    plt.show()",
     "language": "python",
     "metadata": {},
     "outputs": [],
     "prompt_number": 2
    },
    {
     "cell_type": "markdown",
     "metadata": {},
     "source": "Load the pickled file containing the trained classifier."
    },
    {
     "cell_type": "code",
     "collapsed": false,
     "input": "savedRF = open('/Users/Leo/Desktop/clean/rf_model_n_estimators_10.pickle','r')\nrf = pickle.load(savedRF)\nsavedRF.close()",
     "language": "python",
     "metadata": {},
     "outputs": [],
     "prompt_number": 3
    },
    {
     "cell_type": "markdown",
     "metadata": {},
     "source": "Load the test data"
    },
    {
     "cell_type": "code",
     "collapsed": false,
     "input": "fileName = '/Users/Leo/Desktop/clean/finalData/testData.pickle'\npickledFile = open(fileName,'r')\n\ntestData = pickle.load(pickledFile)\t\ntestData = testData.astype(np.float32)\n\ntestInputData = testData[:,1:4]\ntestLabelData = testData[:,4].astype(int)",
     "language": "python",
     "metadata": {},
     "outputs": [],
     "prompt_number": 4
    },
    {
     "cell_type": "markdown",
     "metadata": {},
     "source": "Predict the test data using the classifier."
    },
    {
     "cell_type": "code",
     "collapsed": false,
     "input": "y_predicted = rf.predict(testInputData)",
     "language": "python",
     "metadata": {},
     "outputs": [
      {
       "output_type": "stream",
       "stream": "stderr",
       "text": "[Parallel(n_jobs=2)]: Done   1 out of   2 | elapsed:    1.9s remaining:    1.9s\n[Parallel(n_jobs=2)]: Done   2 out of   2 | elapsed:    1.9s finished\n"
      }
     ],
     "prompt_number": 5
    },
    {
     "cell_type": "markdown",
     "metadata": {},
     "source": "Calculate Accuracy"
    },
    {
     "cell_type": "code",
     "collapsed": false,
     "input": "correct = 0\ntotal = len(y_predicted)\n\nfor i in xrange(total):\n\tif y_predicted[i] == testLabelData[i]:\n\t\tcorrect+=1\n\nprint \"Correct : \" +  str(correct)\nprint \"Total : \" + str(total)\n\naccuracy = float(correct)/float(total)\n\nprint \"Accuracy : \" + str(accuracy)",
     "language": "python",
     "metadata": {},
     "outputs": [
      {
       "output_type": "stream",
       "stream": "stdout",
       "text": "Correct : 272513\nTotal : 384637\nAccuracy : 0.708493982638\n"
      }
     ],
     "prompt_number": 6
    },
    {
     "cell_type": "markdown",
     "metadata": {},
     "source": "Calculate the confusion matrix and plot it."
    },
    {
     "cell_type": "code",
     "collapsed": false,
     "input": "df_confusion = pd.crosstab(testLabelData, y_predicted)\ndf_confusion2 = pd.crosstab(testLabelData, y_predicted, rownames=['Actual'], colnames=['Predicted'], margins=True)\n\nprint df_confusion2\n\ndf_conf_norm = df_confusion / df_confusion.sum(axis=1)\n\nplot_confusion_matrix(df_confusion)",
     "language": "python",
     "metadata": {},
     "outputs": [
      {
       "output_type": "stream",
       "stream": "stdout",
       "text": "Predicted       1     2      3      4     5     6       7     All\nActual                                                           \n1          107442  1669   1818   4461   357   194    5458  121399\n2            3598  1911    683   2001    69    48    1396    9706\n3            2660   458  19088   9788  1480   896    9449   43819\n4            5429   734   6367  48967   987   524    8601   71609\n5             864    70   2089   3955  1430   324    1658   10390\n6             421    71   1296   1877   414  2115    3456    9650\n7            5896   805   7424   9450   974  1955   91560  118064\nAll        126310  5718  38765  80499  5711  6056  121578  384637\n\n[8 rows x 8 columns]\n"
      },
      {
       "output_type": "stream",
       "stream": "stderr",
       "text": "/System/Library/Frameworks/Python.framework/Versions/2.7/Extras/lib/python/matplotlib/collections.py:548: FutureWarning: elementwise comparison failed; returning scalar instead, but in the future will perform elementwise comparison\n  if self._edgecolors == 'face':\n"
      },
      {
       "metadata": {},
       "output_type": "display_data",
       "png": "[encoded data removed]",
       "text": "<matplotlib.figure.Figure at 0x1093bd4d0>"
      }
     ],
     "prompt_number": 7
    }
   ],
   "metadata": {}
  }
 ]
}