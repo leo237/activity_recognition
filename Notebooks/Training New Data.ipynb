{
 "metadata": {
  "name": "Training New Data"
 },
 "nbformat": 3,
 "nbformat_minor": 0,
 "worksheets": [
  {
   "cells": [
    {
     "cell_type": "markdown",
     "metadata": {},
     "source": "Training begins here. We first import all the required import files. "
    },
    {
     "cell_type": "code",
     "collapsed": false,
     "input": "import tensorflow as tf\nimport numpy as np\nimport pickle\nimport math\nimport random",
     "language": "python",
     "metadata": {},
     "outputs": [],
     "prompt_number": 1
    },
    {
     "cell_type": "markdown",
     "metadata": {},
     "source": "We define certain utility functions below.\n\n\nFirst is to convert a number into one-hot encoding. Since we have 7 classes, it will turn an integer into a one-hot-encoding list with 7 values."
    },
    {
     "cell_type": "code",
     "collapsed": false,
     "input": "def oneHotEncoding(n):\n\tres = []\n\tfor each in n:\n\t\ts = [0 for i in xrange(7)]\n\t\ts[int(each)-1] = 1\n\t\tres.append(s)\n\treturn np.asarray(res)",
     "language": "python",
     "metadata": {},
     "outputs": [],
     "prompt_number": 2
    },
    {
     "cell_type": "markdown",
     "metadata": {},
     "source": "Next, we define a function that will return the next batch of data that is used while training.\n\nWe use mini-batch to train, instead of the entire data to calculate gradients and minimize loss function. This has proven to be slightly less accurate, but much faster to reach the minimum. "
    },
    {
     "cell_type": "code",
     "collapsed": false,
     "input": "def nextBatch(data,datasize):\n\tresult = set()\n\ttotalDataSize = data[0].shape[0]\n\tfor x in range (0, datasize):\n\t    num = random.randint(0, totalDataSize-1)\n\t    while num in result:\n\t        num = random.randint(0, totalDataSize-1)\n\t    result.add(num)\n\tx = []\n\ty_ = []\n\tfor each in result:\n\t\tx.append(data[0][each,:])\n\t\ty_.append(data[1][each,:])\n\treturn np.asarray(x), np.asarray(y_)\n",
     "language": "python",
     "metadata": {},
     "outputs": [],
     "prompt_number": 3
    },
    {
     "cell_type": "markdown",
     "metadata": {},
     "source": "Here, a function is defined to initialize all the tensors. \n\nHere I'm using Xavier's initialization strategy as it has proven to give very good results. There's also provision to initialize using zeros and uniform data. "
    },
    {
     "cell_type": "code",
     "collapsed": false,
     "input": "def init_weights(shape, namedAs, init_method='xavier', xavier_params = (None, None)):\n    if init_method == 'zeros':\n        return tf.Variable(tf.zeros(shape, dtype=tf.float32), name=namedAs)\n    elif init_method == 'uniform':\n        return tf.Variable(tf.random_normal(shape, stddev=0.01, dtype=tf.float32), name=namedAs)\n    else: #xavier\n        (fan_in, fan_out) = xavier_params\n        low = -4*np.sqrt(1.0/(fan_in + fan_out)) # {sigmoid:4, nn.relu:1} \n        high = 4*np.sqrt(1.0/(fan_in + fan_out))\n        return tf.Variable(tf.random_uniform(shape, minval=low, maxval=high, dtype=tf.float32), name=namedAs)",
     "language": "python",
     "metadata": {},
     "outputs": [],
     "prompt_number": 4
    },
    {
     "cell_type": "markdown",
     "metadata": {},
     "source": "Now, the pickled files are loaded. Since we had 4 sets, we choose any three to train, and the fourth set to validate. "
    },
    {
     "cell_type": "code",
     "collapsed": false,
     "input": "train = [1,2,3]\nvalidate = 4\n\ndata = []\nfor i in train:\n\tfileName = '/Users/Leo/Desktop/clean/finalData/crossValidationPart'+str(i) +'.pickle'\n\tprint \"filename \", fileName\n\tpickledFile = open(fileName,'r')\n\ttempData = pickle.load(pickledFile)\n\ttempData = tempData.astype(np.float32)\n\tprint tempData.shape\n\ttempData = tempData.tolist()\n\tdata = data+tempData\n\tpickledFile.close()\n\ndata = np.asarray(data)\nprint data.shape\n\nvalidationSetFileName = fileName = '/Users/Leo/Desktop/clean/finalData/crossValidationPart'+str(validate) +'.pickle'\npickledFile = open(fileName,'r')\nvalidationData = pickle.load(pickledFile)\nvalidationData = validationData.astype(np.float32)\n\ninput_data = data[:,1:4]\nlabel_data = oneHotEncoding(data[:,4]) \ntrain_size = input_data.shape[0]\nacc_data = []\nacc_data.append(input_data)\nacc_data.append(label_data)\n\nvalidation_test_data = validationData[:,1:4]\nvalidation_label_data = oneHotEncoding(validationData[:,4])\n",
     "language": "python",
     "metadata": {},
     "outputs": [
      {
       "output_type": "stream",
       "stream": "stdout",
       "text": "filename  /Users/Leo/Desktop/clean/finalData/crossValidationPart1.pickle\n(385379, 5)"
      },
      {
       "output_type": "stream",
       "stream": "stdout",
       "text": "\nfilename "
      },
      {
       "output_type": "stream",
       "stream": "stdout",
       "text": " /Users/Leo/Desktop/clean/finalData/crossValidationPart2.pickle\n(385379, 5)"
      },
      {
       "output_type": "stream",
       "stream": "stdout",
       "text": "\nfilename "
      },
      {
       "output_type": "stream",
       "stream": "stdout",
       "text": " /Users/Leo/Desktop/clean/finalData/crossValidationPart3.pickle\n(385379, 5)"
      },
      {
       "output_type": "stream",
       "stream": "stdout",
       "text": "\n(1156137, 5)"
      },
      {
       "output_type": "stream",
       "stream": "stdout",
       "text": "\n"
      }
     ],
     "prompt_number": 5
    },
    {
     "cell_type": "markdown",
     "metadata": {},
     "source": "Now the input and input_label variables are declared."
    },
    {
     "cell_type": "code",
     "collapsed": false,
     "input": "input_size = 3\noutput_size = 7 #Number of classes\n\n\nx = tf.placeholder(tf.float32, [None, input_size], 'x')\ny_ = tf.placeholder(tf.int32, [None, output_size], 'y_')",
     "language": "python",
     "metadata": {},
     "outputs": [],
     "prompt_number": 6
    },
    {
     "cell_type": "markdown",
     "metadata": {},
     "source": "Now our neural network is defined. \n\n\nIn the first hidden layer, we have 4 units. So the matrix formed will 3x4 because there are three input variables viz. acceleration in the direction of x,y and z. \n\n\nThe weights are initialized using xavier initialization strategy. The biases are initialized to zero.\n\n\nThe activation function that is being used is tanh. "
    },
    {
     "cell_type": "code",
     "collapsed": false,
     "input": "hidden1_units = 4\nweights1 = init_weights(\n        [input_size, hidden1_units], 'weights1',\n        'xavier',\n        xavier_params=(input_size, hidden1_units))\n\nbiases1 = init_weights([1,hidden1_units], 'biases1','zeros')\nhidden1 = tf.tanh(tf.matmul(x, weights1) + biases1)",
     "language": "python",
     "metadata": {},
     "outputs": [],
     "prompt_number": 7
    },
    {
     "cell_type": "markdown",
     "metadata": {},
     "source": "Similary, we define hidden layers 2 and 3. \n\n\nHidden layer 2 has a dimension of 4x5\n\n\nHidden layer 3 has a dimension of 5x6\n\n\nBoth use tanh activation functions. "
    },
    {
     "cell_type": "code",
     "collapsed": false,
     "input": "#Hidden Layer 2\nhidden2_units = 5\nweights2 = init_weights(\n        [hidden1_units, hidden2_units], 'weights2',\n        'xavier',\n        xavier_params=(hidden1_units, hidden2_units))\n\nbiases2 = init_weights([1,hidden2_units], 'biases2','zeros')\n\nhidden2 = tf.tanh(tf.matmul(hidden1, weights2))\n\n################################################################################\n#Hidden Layer 3\nhidden3_units = 6\nweights3 = init_weights(\n        [hidden2_units, hidden3_units], 'weights3',\n        'xavier',\n        xavier_params=(hidden2_units, hidden3_units))\n\nbiases3 = init_weights([1,hidden3_units], 'biases3','zeros')\n\nhidden3 = tf.tanh(tf.matmul(hidden2, weights3) + biases3)",
     "language": "python",
     "metadata": {},
     "outputs": [],
     "prompt_number": 8
    },
    {
     "cell_type": "markdown",
     "metadata": {},
     "source": "Now we define the output layer. It is of dimension 6x7 as the output has to be classified to 7 labels. \n\n\nWeights are being initialized using xavier initialization strategy and biases to zero. \n\n\nWe do NOT use an activation funciton to the results of this layer. We perform just a linear operation here. "
    },
    {
     "cell_type": "code",
     "collapsed": false,
     "input": "#Output Layer. Not tanh here. Linear operation. \nweights4 = init_weights(\n        [hidden3_units, output_size], 'weights4',\n        'xavier',\n        xavier_params=(hidden3_units, output_size))\nbiases4 = init_weights([1,output_size], 'biases4','zeros')\n\nlogits = tf.matmul(hidden3, weights4) + biases4",
     "language": "python",
     "metadata": {},
     "outputs": [],
     "prompt_number": 9
    },
    {
     "cell_type": "markdown",
     "metadata": {},
     "source": "The loss function is defined here. We pass the logits that we get from training, the labels with which the logits are compared with and a regularization term that is added to the loss, to prevent over fitting. \n\nThe loss function chosen is cross-entropy loss between logits and labels. "
    },
    {
     "cell_type": "code",
     "collapsed": false,
     "input": "def loss(logits, labels,regularizers):\n\tlabels = tf.to_float(labels)\n\tcross_entropy = tf.nn.softmax_cross_entropy_with_logits(logits,labels,name='xentropy')\n\tloss = tf.reduce_mean(cross_entropy,name='xentropy_mean')\n\tloss += 5e-4 * regularizers\n\treturn loss",
     "language": "python",
     "metadata": {},
     "outputs": [],
     "prompt_number": 10
    },
    {
     "cell_type": "markdown",
     "metadata": {},
     "source": "Now we define the learning rate. This is the most important step here. We tweak with this hyper parameter to get the best results"
    },
    {
     "cell_type": "code",
     "collapsed": false,
     "input": "global_step = tf.Variable(0, trainable=False)\nlearning_rate = 3e-2",
     "language": "python",
     "metadata": {},
     "outputs": [],
     "prompt_number": 11
    },
    {
     "cell_type": "markdown",
     "metadata": {},
     "source": "Now we choose the kind of optimization technique that we intend to adopt. After testing simple Stochastic Gradient Descent, Adam Optimizer and RMSProp, I found better results with RMSProp. \n\n\nWe also use L2 loss for regularization. \n\n\nWe then initialize all our variables. "
    },
    {
     "cell_type": "code",
     "collapsed": false,
     "input": "optimizer = tf.train.RMSPropOptimizer(learning_rate,decay=0.99, momentum=0.5, epsilon=1e-10)\n\nregularizers = (tf.nn.l2_loss(weights1) + tf.nn.l2_loss(weights2) +\n                  tf.nn.l2_loss(weights3) + tf.nn.l2_loss(weights4))\n\ncomputedLoss = loss(logits,y_,regularizers)\n\ntrain = optimizer.minimize(computedLoss,global_step=global_step)\n\ninit = tf.initialize_all_variables()",
     "language": "python",
     "metadata": {},
     "outputs": [],
     "prompt_number": 12
    },
    {
     "cell_type": "markdown",
     "metadata": {},
     "source": "Then we define a saver variable that is going to help us save our model from time to time. Then we launch our graph"
    },
    {
     "cell_type": "code",
     "collapsed": false,
     "input": "saver = tf.train.Saver()\n\nsess = tf.Session()\nsess.run(init)",
     "language": "python",
     "metadata": {},
     "outputs": [],
     "prompt_number": 13
    },
    {
     "cell_type": "markdown",
     "metadata": {},
     "source": "Now we begin training our data. \n\n\nWe get a set of x and y_ using our nextBatch function that was previously defined. \n\n\nThe loss is calculated after every step. When the step is a multiple of 500, we print the loss. This helps us get an idea about how training is proceeding. \n\n\nWhen the step is a mutliple of 2000, we first save the model that has been built till now, and then test the accuracy achieved by this model. "
    },
    {
     "cell_type": "code",
     "collapsed": false,
     "input": "for step in xrange(20001):\n\tnext_x, next_y_ = nextBatch(acc_data,4000)\n\t_, losss = sess.run([train, computedLoss], feed_dict={x: next_x, y_: next_y_})\n\tif step%500 == 0:\n\t\tprint step ,\n\t\tprint \"  Loss: \",losss\n\tif step%2000 == 0:\n\t\tsave_path = saver.save(sess, \"/Users/Leo/Desktop/clean/models/cross1/attempt_1/model_\"+str(step)+\"_\"+str(losss)+\".ckpt\")\n \t\tprint(\"Model saved in file: %s\" % save_path)\n \t\tcorrect_prediction = tf.equal(tf.argmax(logits,1)+1, tf.argmax(y_,1)+1)\n\t\taccuracy = tf.reduce_mean(tf.cast(correct_prediction, tf.float32))\n\t\tprint \"ACCURACY : \", \n\t\tprint(sess.run(accuracy, feed_dict={x: validation_test_data, y_: validation_label_data}))",
     "language": "python",
     "metadata": {},
     "outputs": [
      {
       "output_type": "stream",
       "stream": "stdout",
       "text": "0   Loss:  2.60253\nModel saved in file: /Users/Leo/Desktop/clean/models/cross1/attempt_1/model_0_2.60253.ckpt\nACCURACY :  "
      },
      {
       "output_type": "stream",
       "stream": "stdout",
       "text": "0.0818259\n500"
      },
      {
       "output_type": "stream",
       "stream": "stdout",
       "text": "   Loss:  1.28063\n1000"
      },
      {
       "output_type": "stream",
       "stream": "stdout",
       "text": "   Loss:  1.20136\n1500"
      },
      {
       "output_type": "stream",
       "stream": "stdout",
       "text": "   Loss:  1.18779\n2000"
      },
      {
       "output_type": "stream",
       "stream": "stdout",
       "text": "   Loss:  1.14922\nModel saved in file: /Users/Leo/Desktop/clean/models/cross1/attempt_1/model_2000_1.14922.ckpt\nACCURACY :  "
      },
      {
       "output_type": "stream",
       "stream": "stdout",
       "text": "0.628976\n2500"
      },
      {
       "output_type": "stream",
       "stream": "stdout",
       "text": "   Loss:  1.17515\n3000"
      },
      {
       "output_type": "stream",
       "stream": "stdout",
       "text": "   Loss:  1.18732\n3500"
      },
      {
       "output_type": "stream",
       "stream": "stdout",
       "text": "   Loss:  1.13915\n4000"
      },
      {
       "output_type": "stream",
       "stream": "stdout",
       "text": "   Loss:  1.16399\nModel saved in file: /Users/Leo/Desktop/clean/models/cross1/attempt_1/model_4000_1.16399.ckpt\nACCURACY :  "
      },
      {
       "output_type": "stream",
       "stream": "stdout",
       "text": "0.634933\n4500"
      },
      {
       "output_type": "stream",
       "stream": "stdout",
       "text": "   Loss:  1.12171\n5000"
      },
      {
       "output_type": "stream",
       "stream": "stdout",
       "text": "   Loss:  1.14099\n5500"
      },
      {
       "output_type": "stream",
       "stream": "stdout",
       "text": "   Loss:  1.16433\n6000"
      },
      {
       "output_type": "stream",
       "stream": "stdout",
       "text": "   Loss:  1.16231\nModel saved in file: /Users/Leo/Desktop/clean/models/cross1/attempt_1/model_6000_1.16231.ckpt\nACCURACY :  "
      },
      {
       "output_type": "stream",
       "stream": "stdout",
       "text": "0.644879\n6500"
      },
      {
       "output_type": "stream",
       "stream": "stdout",
       "text": "   Loss:  1.17072\n7000"
      },
      {
       "output_type": "stream",
       "stream": "stdout",
       "text": "   Loss:  1.16681\n7500"
      },
      {
       "output_type": "stream",
       "stream": "stdout",
       "text": "   Loss:  1.11465\n8000"
      },
      {
       "output_type": "stream",
       "stream": "stdout",
       "text": "   Loss:  1.18693\nModel saved in file: /Users/Leo/Desktop/clean/models/cross1/attempt_1/model_8000_1.18693.ckpt\nACCURACY :  "
      },
      {
       "output_type": "stream",
       "stream": "stdout",
       "text": "0.633423\n8500"
      },
      {
       "output_type": "stream",
       "stream": "stdout",
       "text": "   Loss:  1.14449\n9000"
      },
      {
       "output_type": "stream",
       "stream": "stdout",
       "text": "   Loss:  1.15225\n9500"
      },
      {
       "output_type": "stream",
       "stream": "stdout",
       "text": "   Loss:  1.17797\n10000"
      },
      {
       "output_type": "stream",
       "stream": "stdout",
       "text": "   Loss:  1.13713\nModel saved in file: /Users/Leo/Desktop/clean/models/cross1/attempt_1/model_10000_1.13713.ckpt\nACCURACY :  "
      },
      {
       "output_type": "stream",
       "stream": "stdout",
       "text": "0.634664\n10500"
      },
      {
       "output_type": "stream",
       "stream": "stdout",
       "text": "   Loss:  1.16109\n11000"
      },
      {
       "output_type": "stream",
       "stream": "stdout",
       "text": "   Loss:  1.16562\n11500"
      },
      {
       "output_type": "stream",
       "stream": "stdout",
       "text": "   Loss:  1.15428\n12000"
      },
      {
       "output_type": "stream",
       "stream": "stdout",
       "text": "   Loss:  1.13333\nModel saved in file: /Users/Leo/Desktop/clean/models/cross1/attempt_1/model_12000_1.13333.ckpt\nACCURACY :  "
      },
      {
       "output_type": "stream",
       "stream": "stdout",
       "text": "0.635079\n12500"
      },
      {
       "output_type": "stream",
       "stream": "stdout",
       "text": "   Loss:  1.16493\n13000"
      },
      {
       "output_type": "stream",
       "stream": "stdout",
       "text": "   Loss:  1.11131\n13500"
      },
      {
       "output_type": "stream",
       "stream": "stdout",
       "text": "   Loss:  1.18499\n14000"
      },
      {
       "output_type": "stream",
       "stream": "stdout",
       "text": "   Loss:  1.18335\nModel saved in file: /Users/Leo/Desktop/clean/models/cross1/attempt_1/model_14000_1.18335.ckpt\nACCURACY :  "
      },
      {
       "output_type": "stream",
       "stream": "stdout",
       "text": "0.63882\n14500"
      },
      {
       "output_type": "stream",
       "stream": "stdout",
       "text": "   Loss:  1.15964\n15000"
      },
      {
       "output_type": "stream",
       "stream": "stdout",
       "text": "   Loss:  1.16852\n15500"
      },
      {
       "output_type": "stream",
       "stream": "stdout",
       "text": "   Loss:  1.17524\n16000"
      },
      {
       "output_type": "stream",
       "stream": "stdout",
       "text": "   Loss:  1.14347\nModel saved in file: /Users/Leo/Desktop/clean/models/cross1/attempt_1/model_16000_1.14347.ckpt\nACCURACY :  "
      },
      {
       "output_type": "stream",
       "stream": "stdout",
       "text": "0.63949\n16500"
      },
      {
       "output_type": "stream",
       "stream": "stdout",
       "text": "   Loss:  1.16182\n17000"
      },
      {
       "output_type": "stream",
       "stream": "stdout",
       "text": "   Loss:  1.16294\n17500"
      },
      {
       "output_type": "stream",
       "stream": "stdout",
       "text": "   Loss:  1.14074\n18000"
      },
      {
       "output_type": "stream",
       "stream": "stdout",
       "text": "   Loss:  1.15012\nModel saved in file: /Users/Leo/Desktop/clean/models/cross1/attempt_1/model_18000_1.15012.ckpt\nACCURACY :  "
      },
      {
       "output_type": "stream",
       "stream": "stdout",
       "text": "0.635847\n18500"
      },
      {
       "output_type": "stream",
       "stream": "stdout",
       "text": "   Loss:  1.1815\n19000"
      },
      {
       "output_type": "stream",
       "stream": "stdout",
       "text": "   Loss:  1.16413\n19500"
      },
      {
       "output_type": "stream",
       "stream": "stdout",
       "text": "   Loss:  1.17746\n20000"
      },
      {
       "output_type": "stream",
       "stream": "stdout",
       "text": "   Loss:  1.15978\nModel saved in file: /Users/Leo/Desktop/clean/models/cross1/attempt_1/model_20000_1.15978.ckpt\nACCURACY :  "
      },
      {
       "output_type": "stream",
       "stream": "stdout",
       "text": "0.639853\n"
      }
     ],
     "prompt_number": 14
    }
   ],
   "metadata": {}
  }
 ]
}